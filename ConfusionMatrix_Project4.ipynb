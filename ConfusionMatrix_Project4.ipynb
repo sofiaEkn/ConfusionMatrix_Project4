{
  "nbformat": 4,
  "nbformat_minor": 0,
  "metadata": {
    "colab": {
      "provenance": [],
      "authorship_tag": "ABX9TyPNyX5GJSoc6DQM8gau9llz",
      "include_colab_link": true
    },
    "kernelspec": {
      "name": "python3",
      "display_name": "Python 3"
    },
    "language_info": {
      "name": "python"
    }
  },
  "cells": [
    {
      "cell_type": "markdown",
      "metadata": {
        "id": "view-in-github",
        "colab_type": "text"
      },
      "source": [
        "<a href=\"https://colab.research.google.com/github/sofiaEkn/ConfusionMatrix_Project4/blob/main/ConfusionMatrix_Project4.ipynb\" target=\"_parent\"><img src=\"https://colab.research.google.com/assets/colab-badge.svg\" alt=\"Open In Colab\"/></a>"
      ]
    },
    {
      "cell_type": "markdown",
      "source": [
        "Confusion Matrix:\n",
        "------------------------------\n",
        "                  Predicted:     \n",
        "                   dog  cat\n",
        "      Actual: dog  416  86 \n",
        "              cat  78   409"
      ],
      "metadata": {
        "id": "QGl0_ZQ17J2f"
      }
    },
    {
      "cell_type": "code",
      "execution_count": null,
      "metadata": {
        "colab": {
          "base_uri": "https://localhost:8080/"
        },
        "id": "aLVNPR9D1KTa",
        "outputId": "090bed02-3855-409b-cce9-54ffa857abe2"
      },
      "outputs": [
        {
          "output_type": "stream",
          "name": "stdout",
          "text": [
            "[416, 86, 78, 409]\n"
          ]
        }
      ],
      "source": [
        "confMatrix = [416,86,78,409]\n",
        "print (confMatrix)"
      ]
    },
    {
      "cell_type": "markdown",
      "source": [
        "Calculate:  \n",
        "            \n",
        "            \n",
        "             \n",
        "             \n",
        "\n",
        "*   Accuracy:       (TP+TN)/(TP+TN+FN+FP)\n",
        "*   Precision:      TP/(TP+FP)\n",
        "*   Recall:         TP/(TP+FN)\n",
        "*   F-score:        2*(Recall*Precision/(Recall+Precision))\n",
        "*   Especificidade: TN/(FP+TN)\n",
        "\n",
        "\n",
        "\n",
        "\n",
        "\n",
        "\n",
        "                    "
      ],
      "metadata": {
        "id": "HI4T9HDE7hKM"
      }
    },
    {
      "cell_type": "code",
      "source": [
        "accurMatrix = (confMatrix[0]+confMatrix[3])/sum(confMatrix)\n",
        "\n",
        "precisionMatrix = confMatrix[0]/(confMatrix[0]+confMatrix[2])\n",
        "\n",
        "recallMatrix = confMatrix[0]/(confMatrix[0]+confMatrix[1])\n",
        "\n",
        "FscoreMatrix = 2*recallMatrix*precisionMatrix/(recallMatrix+precisionMatrix)\n",
        "\n",
        "especifMatrix = confMatrix[3]/(confMatrix[2]+confMatrix[3])\n",
        "\n",
        "\n",
        "print (\"Accuracy: \", '%.2f' % accurMatrix)\n",
        "\n",
        "print (\"Precision: \", '%.2f' % precisionMatrix)\n",
        "\n",
        "print (\"Recall: \", '%.2f' % recallMatrix)\n",
        "\n",
        "print (\"F-score: \", '%.2f' % FscoreMatrix)\n",
        "\n",
        "print (\"Especificidade: \", '%.2f' % especifMatrix)\n"
      ],
      "metadata": {
        "colab": {
          "base_uri": "https://localhost:8080/"
        },
        "id": "_Bc5ZiJ8_FUl",
        "outputId": "f5898d5c-e3fa-4a9b-e24f-ca65050e21e8"
      },
      "execution_count": null,
      "outputs": [
        {
          "output_type": "stream",
          "name": "stdout",
          "text": [
            "Accuracy:  0.83\n",
            "Precision:  0.84\n",
            "Recall:  0.83\n",
            "F-score:  0.84\n",
            "Especificidade:  0.84\n"
          ]
        }
      ]
    }
  ]
}